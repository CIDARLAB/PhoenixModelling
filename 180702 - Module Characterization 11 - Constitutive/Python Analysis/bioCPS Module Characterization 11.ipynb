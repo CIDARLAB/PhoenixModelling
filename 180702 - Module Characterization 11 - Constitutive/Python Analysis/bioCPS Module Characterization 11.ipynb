{
 "cells": [
  {
   "cell_type": "code",
   "execution_count": 1,
   "metadata": {
    "collapsed": true
   },
   "outputs": [],
   "source": [
    "%matplotlib inline\n",
    "import numpy as np\n",
    "import matplotlib.pyplot as plt\n",
    "import matplotlib.cm as cm\n",
    "import pandas as pd\n",
    "\n",
    "######################## Some Pandas Reminders ####################################\n",
    "# MyData.head()                             # Peak at first 5 rows of the data\n",
    "# MyData.x                                  # Data of column called \"x\"\n",
    "# MyData.iloc[0,:]                          # First row\n",
    "# MyData.iloc[:,0]                          # First column\n",
    "# MyData.columns[0]                         # Name of first column\n",
    "# MyData['Seconds'] = 3600 * MyData.Hours   # Create a new column named as such and caluclated as such\n",
    "# MyData[MyData > 0]                        # Return Data Frame with conditional"
   ]
  },
  {
   "cell_type": "code",
   "execution_count": 2,
   "metadata": {},
   "outputs": [
    {
     "name": "stdout",
     "output_type": "stream",
     "text": [
      "\n"
     ]
    }
   ],
   "source": [
    "'''Describe the experiment'''\n",
    "'''\n",
    "pL2f1583 is pLacI-RBS30-GFP (P017-U015-SC035)\n",
    "pL2f1584 is pLacI-RBS31-GFP (P017-U016-SC035)\n",
    "pL2f1585 is pLacI-RBS32-GFP (P017-U017-SC035)\n",
    "pL2f1586 is pLacI-RBS33-GFP (P017-U018-SC035)\n",
    "\n",
    "pL2f1587 is pLacIq-RBS30-GFP (P018-U015-SC035)\n",
    "pL2f1588 is pLacIq-RBS31-GFP (P018-U016-SC035)\n",
    "pL2f1589 is pLacIq-RBS32-GFP (P018-U017-SC035)\n",
    "pL2f1590 is pLacIq-RBS33-GFP (P018-U018-SC035)\n",
    "'''\n",
    "print()"
   ]
  },
  {
   "cell_type": "code",
   "execution_count": 3,
   "metadata": {
    "collapsed": true
   },
   "outputs": [],
   "source": [
    "def constituitive_model(steady_state_MEFL):\n",
    "    '''\n",
    "    For constituitive modules, their parameters are merely k_express which is steady_state * k_loss\n",
    "    \n",
    "    dGFP = k_express - k_loss*[GFP]\n",
    "    at [GFP]ss, dGFP = 0\n",
    "    0 = k_express - k_loss*[GFP]ss\n",
    "    k_express = k_loss*[GFP]ss\n",
    "    '''\n",
    "    \n",
    "    loss = 0.00443383612441\n",
    "           # in units of min**-1\n",
    "        \n",
    "    return steady_state_MEFL * loss"
   ]
  },
  {
   "cell_type": "code",
   "execution_count": 4,
   "metadata": {},
   "outputs": [
    {
     "data": {
      "text/html": [
       "<div>\n",
       "<style scoped>\n",
       "    .dataframe tbody tr th:only-of-type {\n",
       "        vertical-align: middle;\n",
       "    }\n",
       "\n",
       "    .dataframe tbody tr th {\n",
       "        vertical-align: top;\n",
       "    }\n",
       "\n",
       "    .dataframe thead th {\n",
       "        text-align: right;\n",
       "    }\n",
       "</style>\n",
       "<table border=\"1\" class=\"dataframe\">\n",
       "  <thead>\n",
       "    <tr style=\"text-align: right;\">\n",
       "      <th></th>\n",
       "      <th>plasmid</th>\n",
       "      <th>replicate</th>\n",
       "      <th>GFP</th>\n",
       "    </tr>\n",
       "  </thead>\n",
       "  <tbody>\n",
       "    <tr>\n",
       "      <th>0</th>\n",
       "      <td>pL2f1583</td>\n",
       "      <td>1</td>\n",
       "      <td>2755.227021</td>\n",
       "    </tr>\n",
       "    <tr>\n",
       "      <th>1</th>\n",
       "      <td>pL2f1584</td>\n",
       "      <td>1</td>\n",
       "      <td>492.929305</td>\n",
       "    </tr>\n",
       "    <tr>\n",
       "      <th>2</th>\n",
       "      <td>pL2f1585</td>\n",
       "      <td>1</td>\n",
       "      <td>26.518165</td>\n",
       "    </tr>\n",
       "    <tr>\n",
       "      <th>3</th>\n",
       "      <td>pL2f1586</td>\n",
       "      <td>1</td>\n",
       "      <td>17.703915</td>\n",
       "    </tr>\n",
       "    <tr>\n",
       "      <th>4</th>\n",
       "      <td>pL2f1587</td>\n",
       "      <td>1</td>\n",
       "      <td>51331.390582</td>\n",
       "    </tr>\n",
       "  </tbody>\n",
       "</table>\n",
       "</div>"
      ],
      "text/plain": [
       "    plasmid  replicate           GFP\n",
       "0  pL2f1583          1   2755.227021\n",
       "1  pL2f1584          1    492.929305\n",
       "2  pL2f1585          1     26.518165\n",
       "3  pL2f1586          1     17.703915\n",
       "4  pL2f1587          1  51331.390582"
      ]
     },
     "execution_count": 4,
     "metadata": {},
     "output_type": "execute_result"
    }
   ],
   "source": [
    "'''Import the data'''\n",
    "data = pd.read_excel('data.xlsx') # GFP is in GeoMean MEFL\n",
    "data.head()"
   ]
  },
  {
   "cell_type": "code",
   "execution_count": 5,
   "metadata": {},
   "outputs": [
    {
     "data": {
      "text/html": [
       "<div>\n",
       "<style scoped>\n",
       "    .dataframe tbody tr th:only-of-type {\n",
       "        vertical-align: middle;\n",
       "    }\n",
       "\n",
       "    .dataframe tbody tr th {\n",
       "        vertical-align: top;\n",
       "    }\n",
       "\n",
       "    .dataframe thead th {\n",
       "        text-align: right;\n",
       "    }\n",
       "</style>\n",
       "<table border=\"1\" class=\"dataframe\">\n",
       "  <thead>\n",
       "    <tr style=\"text-align: right;\">\n",
       "      <th></th>\n",
       "      <th>plasmid</th>\n",
       "      <th>Average</th>\n",
       "      <th>Stdev</th>\n",
       "      <th>k_express</th>\n",
       "    </tr>\n",
       "  </thead>\n",
       "  <tbody>\n",
       "    <tr>\n",
       "      <th>0</th>\n",
       "      <td>pL2f1583</td>\n",
       "      <td>2905.045580</td>\n",
       "      <td>96.128638</td>\n",
       "      <td>12.880496</td>\n",
       "    </tr>\n",
       "    <tr>\n",
       "      <th>1</th>\n",
       "      <td>pL2f1584</td>\n",
       "      <td>515.986614</td>\n",
       "      <td>14.186127</td>\n",
       "      <td>2.287800</td>\n",
       "    </tr>\n",
       "    <tr>\n",
       "      <th>2</th>\n",
       "      <td>pL2f1585</td>\n",
       "      <td>25.795671</td>\n",
       "      <td>1.894401</td>\n",
       "      <td>0.114374</td>\n",
       "    </tr>\n",
       "    <tr>\n",
       "      <th>3</th>\n",
       "      <td>pL2f1586</td>\n",
       "      <td>18.241944</td>\n",
       "      <td>1.247247</td>\n",
       "      <td>0.080882</td>\n",
       "    </tr>\n",
       "    <tr>\n",
       "      <th>4</th>\n",
       "      <td>pL2f1587</td>\n",
       "      <td>55117.938054</td>\n",
       "      <td>2932.763188</td>\n",
       "      <td>244.383905</td>\n",
       "    </tr>\n",
       "    <tr>\n",
       "      <th>5</th>\n",
       "      <td>pL2f1588</td>\n",
       "      <td>15780.762010</td>\n",
       "      <td>899.468023</td>\n",
       "      <td>69.969313</td>\n",
       "    </tr>\n",
       "    <tr>\n",
       "      <th>6</th>\n",
       "      <td>pL2f1589</td>\n",
       "      <td>89.461305</td>\n",
       "      <td>4.451219</td>\n",
       "      <td>0.396657</td>\n",
       "    </tr>\n",
       "    <tr>\n",
       "      <th>7</th>\n",
       "      <td>pL2f1590</td>\n",
       "      <td>27.277231</td>\n",
       "      <td>1.186912</td>\n",
       "      <td>0.120943</td>\n",
       "    </tr>\n",
       "  </tbody>\n",
       "</table>\n",
       "</div>"
      ],
      "text/plain": [
       "    plasmid       Average        Stdev   k_express\n",
       "0  pL2f1583   2905.045580    96.128638   12.880496\n",
       "1  pL2f1584    515.986614    14.186127    2.287800\n",
       "2  pL2f1585     25.795671     1.894401    0.114374\n",
       "3  pL2f1586     18.241944     1.247247    0.080882\n",
       "4  pL2f1587  55117.938054  2932.763188  244.383905\n",
       "5  pL2f1588  15780.762010   899.468023   69.969313\n",
       "6  pL2f1589     89.461305     4.451219    0.396657\n",
       "7  pL2f1590     27.277231     1.186912    0.120943"
      ]
     },
     "execution_count": 5,
     "metadata": {},
     "output_type": "execute_result"
    }
   ],
   "source": [
    "'''Calculate some statistics'''\n",
    "metadata = pd.DataFrame()\n",
    "metadata['plasmid'] = data.plasmid.unique()\n",
    "for each in metadata.plasmid.unique():\n",
    "    row = metadata[metadata.plasmid == each].index\n",
    "    metadata.loc[row,'Average'] = data[data.plasmid == each].GFP.mean()\n",
    "    metadata.loc[row,'Stdev'] = data[data.plasmid == each].GFP.std()\n",
    "    metadata.loc[row, 'k_express'] = constituitive_model(metadata.loc[row, 'Average'])\n",
    "metadata"
   ]
  },
  {
   "cell_type": "code",
   "execution_count": 6,
   "metadata": {},
   "outputs": [
    {
     "data": {
      "image/png": "[encoded data removed]",
      "text/plain": [
       "<matplotlib.figure.Figure at 0x227de085b00>"
      ]
     },
     "metadata": {},
     "output_type": "display_data"
    }
   ],
   "source": [
    "'''Visualize the data'''\n",
    "\n",
    "plasmids = metadata.plasmid\n",
    "x_pos = np.arange(len(plasmids))\n",
    "means = metadata.Average\n",
    "errors = metadata.Stdev\n",
    "\n",
    "plt.bar(x_pos, means, yerr=errors, align='center', alpha=0.5, ecolor='black', capsize=10)\n",
    "\n",
    "plt.xticks(x_pos, plasmids, rotation=70)\n",
    "plt.xlabel('Plasmid')\n",
    "\n",
    "plt.ylim(10,100000)\n",
    "plt.yscale('symlog')\n",
    "plt.ylabel('GFP (GeoMean MEFL)')\n",
    "\n",
    "plt.suptitle('Constitutive promoters; N=5 same day, different colonies')\n",
    "plt.grid(axis='y', c='grey')\n",
    "\n",
    "plt.savefig('Constitutive promoters.png', transparent=True, bbox_inches='tight', dpi = 4000, size=(8,6))\n",
    "plt.show()"
   ]
  },
  {
   "cell_type": "code",
   "execution_count": null,
   "metadata": {
    "collapsed": true
   },
   "outputs": [],
   "source": []
  }
 ],
 "metadata": {
  "kernelspec": {
   "display_name": "Python 3",
   "language": "python",
   "name": "python3"
  },
  "language_info": {
   "codemirror_mode": {
    "name": "ipython",
    "version": 3
   },
   "file_extension": ".py",
   "mimetype": "text/x-python",
   "name": "python",
   "nbconvert_exporter": "python",
   "pygments_lexer": "ipython3",
   "version": "3.6.3"
  }
 },
 "nbformat": 4,
 "nbformat_minor": 2
}
