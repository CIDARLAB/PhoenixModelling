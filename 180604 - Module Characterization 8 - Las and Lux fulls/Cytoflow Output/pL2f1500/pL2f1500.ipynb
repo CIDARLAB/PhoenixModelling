{
 "cells": [
  {
   "cell_type": "code",
   "execution_count": null,
   "metadata": {},
   "outputs": [],
   "source": [
    "from cytoflow import *\n",
    "%matplotlib inline"
   ]
  },
  {
   "cell_type": "code",
   "execution_count": null,
   "metadata": {},
   "outputs": [],
   "source": [
    "op_0 = ImportOp(\n",
    "    conditions={\n",
    "        'lasAHL_nM': 'float',\n",
    "        'Plasmid': 'category'\n",
    "    },\n",
    "    tubes=[\n",
    "        Tube(\n",
    "            file=\n",
    "            'Z:/home/delateur/Experiments/BioCPS/180604 - Module Characterization 8 - Las and Lux fulls/Raw Data/180604 Module Characterizations 8/Plate1/180604 Module Characterizations 8_Specimen_001_A3_A03_003.fcs',\n",
    "            conditions={\n",
    "                'lasAHL_nM': 1000.0,\n",
    "                'Plasmid': 'pL2f1500'\n",
    "            },\n",
    "            conditions_list=['Plasmid', 'lasAHL_nM']),\n",
    "        Tube(\n",
    "            file=\n",
    "            'Z:/home/delateur/Experiments/BioCPS/180604 - Module Characterization 8 - Las and Lux fulls/Raw Data/180604 Module Characterizations 8/Plate1/180604 Module Characterizations 8_Specimen_001_A4_A04_004.fcs',\n",
    "            conditions={\n",
    "                'lasAHL_nM': 100.0,\n",
    "                'Plasmid': 'pL2f1500'\n",
    "            },\n",
    "            conditions_list=['Plasmid', 'lasAHL_nM']),\n",
    "        Tube(\n",
    "            file=\n",
    "            'Z:/home/delateur/Experiments/BioCPS/180604 - Module Characterization 8 - Las and Lux fulls/Raw Data/180604 Module Characterizations 8/Plate1/180604 Module Characterizations 8_Specimen_001_A5_A05_005.fcs',\n",
    "            conditions={\n",
    "                'lasAHL_nM': 10.0,\n",
    "                'Plasmid': 'pL2f1500'\n",
    "            },\n",
    "            conditions_list=['Plasmid', 'lasAHL_nM']),\n",
    "        Tube(\n",
    "            file=\n",
    "            'Z:/home/delateur/Experiments/BioCPS/180604 - Module Characterization 8 - Las and Lux fulls/Raw Data/180604 Module Characterizations 8/Plate1/180604 Module Characterizations 8_Specimen_001_A6_A06_006.fcs',\n",
    "            conditions={\n",
    "                'lasAHL_nM': 1.0,\n",
    "                'Plasmid': 'pL2f1500'\n",
    "            },\n",
    "            conditions_list=['Plasmid', 'lasAHL_nM']),\n",
    "        Tube(\n",
    "            file=\n",
    "            'Z:/home/delateur/Experiments/BioCPS/180604 - Module Characterization 8 - Las and Lux fulls/Raw Data/180604 Module Characterizations 8/Plate1/180604 Module Characterizations 8_Specimen_001_A7_A07_007.fcs',\n",
    "            conditions={\n",
    "                'lasAHL_nM': 0.1,\n",
    "                'Plasmid': 'pL2f1500'\n",
    "            },\n",
    "            conditions_list=['Plasmid', 'lasAHL_nM']),\n",
    "        Tube(\n",
    "            file=\n",
    "            'Z:/home/delateur/Experiments/BioCPS/180604 - Module Characterization 8 - Las and Lux fulls/Raw Data/180604 Module Characterizations 8/Plate1/180604 Module Characterizations 8_Specimen_001_A8_A08_008.fcs',\n",
    "            conditions={\n",
    "                'lasAHL_nM': 0.01,\n",
    "                'Plasmid': 'pL2f1500'\n",
    "            },\n",
    "            conditions_list=['Plasmid', 'lasAHL_nM']),\n",
    "        Tube(\n",
    "            file=\n",
    "            'Z:/home/delateur/Experiments/BioCPS/180604 - Module Characterization 8 - Las and Lux fulls/Raw Data/180604 Module Characterizations 8/Plate1/180604 Module Characterizations 8_Specimen_001_A9_A09_009.fcs',\n",
    "            conditions={\n",
    "                'lasAHL_nM': 0.001,\n",
    "                'Plasmid': 'pL2f1500'\n",
    "            },\n",
    "            conditions_list=['Plasmid', 'lasAHL_nM']),\n",
    "        Tube(\n",
    "            file=\n",
    "            'Z:/home/delateur/Experiments/BioCPS/180604 - Module Characterization 8 - Las and Lux fulls/Raw Data/180604 Module Characterizations 8/Plate1/180604 Module Characterizations 8_Specimen_001_A10_A10_010.fcs',\n",
    "            conditions={\n",
    "                'lasAHL_nM': 0.0,\n",
    "                'Plasmid': 'pL2f1500'\n",
    "            },\n",
    "            conditions_list=['Plasmid', 'lasAHL_nM'])\n",
    "    ])\n",
    "\n",
    "ex_0 = op_0.apply()\n"
   ]
  },
  {
   "cell_type": "code",
   "execution_count": null,
   "metadata": {},
   "outputs": [],
   "source": [
    "op_1 = PolygonOp(\n",
    "    name='EcoliMorpho',\n",
    "    vertices=[(2269.7987313717945, 13969.469964464623), (7097.1072295959939,\n",
    "                                                         503.07222508925105),\n",
    "              (68814.786261298854, 1629.3509094353808), (23318.532303221375,\n",
    "                                                         28927.671642582747),\n",
    "              (2269.7987313717945, 14216.660885117895), (2269.7987313717945,\n",
    "                                                         14216.660885117895)],\n",
    "    ychannel='SSC-H',\n",
    "    xchannel='FSC-H',\n",
    "    xscale='log',\n",
    "    yscale='log')\n",
    "\n",
    "ex_1 = op_1.apply(ex_0)\n"
   ]
  },
  {
   "cell_type": "code",
   "execution_count": null,
   "metadata": {},
   "outputs": [],
   "source": [
    "op_1.default_view().plot(ex_0)\n"
   ]
  },
  {
   "cell_type": "code",
   "execution_count": null,
   "metadata": {},
   "outputs": [],
   "source": [
    "# Beads: Spherotech RCP-30-5A Lot AG01, AF02, AD04 and AAE01\n",
    "op_2 = BeadCalibrationOp(\n",
    "    beads_file=\n",
    "    'Z:/home/delateur/Experiments/BioCPS/180604 - Module Characterization 8 - Las and Lux fulls/Raw Data/180604 Module Characterizations 8/BeadsAK02_001/180604 Module Characterizations 8_Specimen_002_B2_B02_002.fcs',\n",
    "    beads={\n",
    "        'MECSB': [216.0, 464.0, 1232.0, 2940.0, 7669.0, 19812.0, 35474.0],\n",
    "        'MEAPCY7': [2864.0, 7644.0, 19081.0, 37258.0],\n",
    "        'MEAP': [373.0, 1079.0, 3633.0, 9896.0, 28189.0, 79831.0, 151008.0],\n",
    "        'MEBFP': [861.0, 1997.0, 5776.0, 15233.0, 45389.0, 152562.0, 396759.0],\n",
    "        'MEPTR': [233.0, 669.0, 2179.0, 5929.0, 18219.0, 63944.0, 188785.0],\n",
    "        'MEPCY7': [14916.0, 42336.0, 153840.0, 494263.0],\n",
    "        'MECY':\n",
    "        [1614.0, 4035.0, 12025.0, 31896.0, 95682.0, 353225.0, 1077421.0],\n",
    "        'MEPE': [531.0, 1504.0, 4819.0, 12506.0, 36159.0, 109588.0, 250892.0],\n",
    "        'MEFL': [792.0, 2079.0, 6588.0, 16471.0, 47497.0, 137049.0, 271647.0]\n",
    "    },\n",
    "    units={'FITC-A': 'MEFL'})\n",
    "\n",
    "op_2.estimate(ex_1)\n",
    "ex_2 = op_2.apply(ex_1)\n"
   ]
  },
  {
   "cell_type": "code",
   "execution_count": null,
   "metadata": {},
   "outputs": [],
   "source": [
    "op_2.default_view().plot(ex_1)\n"
   ]
  },
  {
   "cell_type": "code",
   "execution_count": null,
   "metadata": {},
   "outputs": [],
   "source": [
    "op_3 = AutofluorescenceOp(\n",
    "    channels=['FITC-A'],\n",
    "    blank_file=\n",
    "    'Z:/home/delateur/Experiments/BioCPS/180604 - Module Characterization 8 - Las and Lux fulls/Raw Data/180604 Module Characterizations 8/Plate1/180604 Module Characterizations 8_Specimen_001_A1_A01_001.fcs'\n",
    ")\n",
    "\n",
    "op_3.estimate(ex_2, subset='(EcoliMorpho == True)')\n",
    "ex_3 = op_3.apply(ex_2)\n"
   ]
  },
  {
   "cell_type": "code",
   "execution_count": null,
   "metadata": {},
   "outputs": [],
   "source": [
    "op_3.default_view().plot(ex_2)\n"
   ]
  },
  {
   "cell_type": "code",
   "execution_count": null,
   "metadata": {},
   "outputs": [],
   "source": [
    "op_4 = ChannelStatisticOp(\n",
    "    name='GFP Count',\n",
    "    by=['lasAHL_nM'],\n",
    "    statistic_name='Count',\n",
    "    subset='(EcoliMorpho == True)',\n",
    "    function=len,\n",
    "    channel='FITC-A')\n",
    "\n",
    "ex_4 = op_4.apply(ex_3)\n"
   ]
  },
  {
   "cell_type": "code",
   "execution_count": null,
   "metadata": {},
   "outputs": [],
   "source": [
    "from numpy import mean\n",
    "\n",
    "op_5 = ChannelStatisticOp(\n",
    "    name='GFP Mean',\n",
    "    by=['lasAHL_nM'],\n",
    "    statistic_name='Mean',\n",
    "    subset='(EcoliMorpho == True)',\n",
    "    function=mean,\n",
    "    channel='FITC-A')\n",
    "\n",
    "ex_5 = op_5.apply(ex_4)\n"
   ]
  },
  {
   "cell_type": "code",
   "execution_count": null,
   "metadata": {},
   "outputs": [],
   "source": [
    "op_6 = ChannelStatisticOp(\n",
    "    name='GFP GeoMean',\n",
    "    by=['lasAHL_nM'],\n",
    "    statistic_name='Geom.Mean',\n",
    "    subset='(EcoliMorpho == True)',\n",
    "    function=geom_mean,\n",
    "    channel='FITC-A')\n",
    "\n",
    "ex_6 = op_6.apply(ex_5)\n"
   ]
  },
  {
   "cell_type": "code",
   "execution_count": null,
   "metadata": {},
   "outputs": [],
   "source": [
    "TableView(row_facet='lasAHL_nM', statistic=('GFP Mean', 'Mean')).plot(ex_6)\n"
   ]
  }
 ],
 "metadata": {},
 "nbformat": 4,
 "nbformat_minor": 2
}
