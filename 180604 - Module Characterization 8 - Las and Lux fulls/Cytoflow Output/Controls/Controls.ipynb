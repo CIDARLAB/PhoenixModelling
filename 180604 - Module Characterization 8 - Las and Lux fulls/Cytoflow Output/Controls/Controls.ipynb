{
 "cells": [
  {
   "cell_type": "code",
   "execution_count": null,
   "metadata": {},
   "outputs": [],
   "source": [
    "from cytoflow import *\n",
    "%matplotlib inline"
   ]
  },
  {
   "cell_type": "code",
   "execution_count": null,
   "metadata": {},
   "outputs": [],
   "source": [
    "op_0 = ImportOp(\n",
    "    conditions={'Plasmid': 'category'},\n",
    "    tubes=[\n",
    "        Tube(\n",
    "            file=\n",
    "            'Z:/home/delateur/Experiments/BioCPS/180604 - Module Characterization 8 - Las and Lux fulls/Raw Data/180604 Module Characterizations 8/Plate1/180604 Module Characterizations 8_Specimen_001_A1_A01_001.fcs',\n",
    "            conditions={'Plasmid': 'pL2f1EV'},\n",
    "            conditions_list=['Plasmid']),\n",
    "        Tube(\n",
    "            file=\n",
    "            'Z:/home/delateur/Experiments/BioCPS/180604 - Module Characterization 8 - Las and Lux fulls/Raw Data/180604 Module Characterizations 8/Plate1/180604 Module Characterizations 8_Specimen_001_A2_A02_002.fcs',\n",
    "            conditions={'Plasmid': 'pL2f1510'},\n",
    "            conditions_list=['Plasmid'])\n",
    "    ])\n",
    "\n",
    "ex_0 = op_0.apply()\n"
   ]
  },
  {
   "cell_type": "code",
   "execution_count": null,
   "metadata": {},
   "outputs": [],
   "source": [
    "op_1 = PolygonOp(\n",
    "    name='EcoliMorpho',\n",
    "    vertices=[(1443.3422005035336, 10919.050835567239), (3670.6266544832747,\n",
    "                                                         444.30083464966208),\n",
    "              (45444.274357721231, 1810.0138382578966), (9259.4705292170256,\n",
    "                                                         19934.966123898866),\n",
    "              (1420.1014830178169, 10824.205739356768), (1420.1014830178169,\n",
    "                                                         10824.205739356768)],\n",
    "    ychannel='SSC-H',\n",
    "    xchannel='FSC-H',\n",
    "    xscale='log',\n",
    "    yscale='log')\n",
    "\n",
    "ex_1 = op_1.apply(ex_0)\n"
   ]
  },
  {
   "cell_type": "code",
   "execution_count": null,
   "metadata": {},
   "outputs": [],
   "source": [
    "op_1.default_view(huefacet='Plasmid').plot(ex_0)\n"
   ]
  },
  {
   "cell_type": "code",
   "execution_count": null,
   "metadata": {},
   "outputs": [],
   "source": [
    "# Beads: Spherotech RCP-30-5A Lot AG01, AF02, AD04 and AAE01\n",
    "op_2 = BeadCalibrationOp(\n",
    "    beads_file=\n",
    "    'Z:/home/delateur/Experiments/BioCPS/180604 - Module Characterization 8 - Las and Lux fulls/Raw Data/180604 Module Characterizations 8/BeadsAK02_001/180604 Module Characterizations 8_Specimen_002_B2_B02_002.fcs',\n",
    "    beads={\n",
    "        'MECSB': [216.0, 464.0, 1232.0, 2940.0, 7669.0, 19812.0, 35474.0],\n",
    "        'MEAPCY7': [2864.0, 7644.0, 19081.0, 37258.0],\n",
    "        'MEAP': [373.0, 1079.0, 3633.0, 9896.0, 28189.0, 79831.0, 151008.0],\n",
    "        'MEBFP': [861.0, 1997.0, 5776.0, 15233.0, 45389.0, 152562.0, 396759.0],\n",
    "        'MEPTR': [233.0, 669.0, 2179.0, 5929.0, 18219.0, 63944.0, 188785.0],\n",
    "        'MEPCY7': [14916.0, 42336.0, 153840.0, 494263.0],\n",
    "        'MECY':\n",
    "        [1614.0, 4035.0, 12025.0, 31896.0, 95682.0, 353225.0, 1077421.0],\n",
    "        'MEPE': [531.0, 1504.0, 4819.0, 12506.0, 36159.0, 109588.0, 250892.0],\n",
    "        'MEFL': [792.0, 2079.0, 6588.0, 16471.0, 47497.0, 137049.0, 271647.0]\n",
    "    },\n",
    "    units={'FITC-A': 'MEFL'})\n",
    "\n",
    "op_2.estimate(ex_1)\n",
    "ex_2 = op_2.apply(ex_1)\n"
   ]
  },
  {
   "cell_type": "code",
   "execution_count": null,
   "metadata": {},
   "outputs": [],
   "source": [
    "op_2.default_view().plot(ex_1)\n"
   ]
  },
  {
   "cell_type": "code",
   "execution_count": null,
   "metadata": {},
   "outputs": [],
   "source": [
    "op_3 = AutofluorescenceOp(\n",
    "    channels=['FITC-A'],\n",
    "    blank_file=\n",
    "    'Z:/home/delateur/Experiments/BioCPS/180604 - Module Characterization 8 - Las and Lux fulls/Raw Data/180604 Module Characterizations 8/Plate1/180604 Module Characterizations 8_Specimen_001_A1_A01_001.fcs'\n",
    ")\n",
    "\n",
    "op_3.estimate(ex_2, subset='(EcoliMorpho == True)')\n",
    "ex_3 = op_3.apply(ex_2)\n"
   ]
  },
  {
   "cell_type": "code",
   "execution_count": null,
   "metadata": {},
   "outputs": [],
   "source": [
    "op_3.default_view().plot(ex_2)\n"
   ]
  },
  {
   "cell_type": "code",
   "execution_count": null,
   "metadata": {},
   "outputs": [],
   "source": [
    "op_4 = ChannelStatisticOp(\n",
    "    name='GFP Count',\n",
    "    by=['Plasmid'],\n",
    "    statistic_name='Count',\n",
    "    subset='(EcoliMorpho == True)',\n",
    "    function=len,\n",
    "    channel='FITC-A')\n",
    "\n",
    "ex_4 = op_4.apply(ex_3)\n"
   ]
  },
  {
   "cell_type": "code",
   "execution_count": null,
   "metadata": {},
   "outputs": [],
   "source": [
    "from numpy import mean\n",
    "\n",
    "op_5 = ChannelStatisticOp(\n",
    "    name='GFP Mean',\n",
    "    by=['Plasmid'],\n",
    "    statistic_name='Mean',\n",
    "    subset='(EcoliMorpho == True)',\n",
    "    function=mean,\n",
    "    channel='FITC-A')\n",
    "\n",
    "ex_5 = op_5.apply(ex_4)\n"
   ]
  },
  {
   "cell_type": "code",
   "execution_count": null,
   "metadata": {},
   "outputs": [],
   "source": [
    "op_6 = ChannelStatisticOp(\n",
    "    name='GFP GeoMean',\n",
    "    by=['Plasmid'],\n",
    "    statistic_name='Geom.Mean',\n",
    "    subset='(EcoliMorpho == True)',\n",
    "    function=geom_mean,\n",
    "    channel='FITC-A')\n",
    "\n",
    "ex_6 = op_6.apply(ex_5)\n"
   ]
  },
  {
   "cell_type": "code",
   "execution_count": null,
   "metadata": {},
   "outputs": [],
   "source": [
    "TableView(statistic=('GFP Mean', 'Mean'), column_facet='Plasmid').plot(ex_6)\n"
   ]
  }
 ],
 "metadata": {},
 "nbformat": 4,
 "nbformat_minor": 2
}
